{
 "cells": [
  {
   "cell_type": "markdown",
   "metadata": {},
   "source": [
    "<br><br>\n",
    "<div style=\"font-family: 'Gen Jyuu Gothic Monospace Medium', 'Noto Sans TC', 'Inconsolata'; font-size: 500%; font-weight: 700; text-align: center; color: #EA9782;\">\n",
    "Python的參數傳遞\n",
    "</div>\n",
    "<br><br>\n",
    "<div style=\"font-family: 'Inconsolata', 'Noto Sans TC'; font-size: 135%; color: Gainsboro\">\n",
    "<br><br><br>\n",
    "\n",
    "* pass by value\n",
    "* pass by reference\n",
    "* pass by ?\n",
    "</div>"
   ]
  },
  {
   "cell_type": "code",
   "execution_count": null,
   "metadata": {},
   "outputs": [],
   "source": [
    "%%javascript\n",
    "// 設定output文字顏色\n",
    "document.styleSheets[0].addRule('body', 'color: #EA9782 !important;')"
   ]
  },
  {
   "cell_type": "code",
   "execution_count": null,
   "metadata": {},
   "outputs": [],
   "source": [
    "print('談談Python的參數傳遞')"
   ]
  },
  {
   "cell_type": "markdown",
   "metadata": {},
   "source": [
    "<div style=\"color: SteelBlue; font-family: 'Ubuntu Mono', 'Inconsolata', 'Noto Sans TC'; font-size: 300%; font-weight: 700;\">\n",
    "Pass by Value\n",
    "</div>\n",
    "<div style=\"font-family: 'Inconsolata', 'Noto Sans TC'; font-size: 135%; color: Gainsboro\">\n",
    "\n",
    "* 也稱<span style=\"color: #E5C100;\">call by value</span>。\n",
    "* In the \"pass by value\" approach, when a function is called, <span style=\"color: #E5C100;\">the actual arguments supplied to the function <span style=\"color: #FFDB19; font-weight: 700;\">are copied</span> into the formal parameters of the function</span>. This means any modification made to the parameter inside the function <span style=\"color: #E5C100;\">does not affect the original argument</span>. It's akin to giving someone a copy of a document; any changes they make to the copy won't affect the original document.\n",
    "* Advantages:\n",
    "    * Safety: Since a copy of the variable is passed, the original variable's value is not at risk of unintended modifications.\n",
    "    * Simplicity: It's straightforward to understand that you're working with a copy, not the original data.\n",
    "* Disadvantages:\n",
    "    * Overhead: Copying large structures or classes can be resource-intensive, leading to performance overhead.\n",
    "    * Limited: Cannot be used when a function needs to modify the caller's variable.\n",
    "</div>"
   ]
  },
  {
   "cell_type": "code",
   "execution_count": 110,
   "metadata": {},
   "outputs": [
    {
     "name": "stdout",
     "output_type": "stream",
     "text": [
      "BEFORE calling modifyScores(): courseName = CIS101\t   weight = 1\n",
      "                               scores = 60, 100, 0, 36, 85\n",
      "\n",
      "Within modifyScores(): name = **CIS101**\tweight = 1.25\n",
      "                       grades = 77, 100, 0, 60, 92\n",
      "\n",
      "AFTER calling modifyScores() : courseName = CIS101\t   weight = 1\n",
      "                               scores = 77, 100, 0, 60, 92\n",
      "\n"
     ]
    }
   ],
   "source": [
    "! g++ ./by_value.cpp -w -o by_value\n",
    "! ./by_value"
   ]
  },
  {
   "cell_type": "markdown",
   "metadata": {},
   "source": [
    "<div style=\"color: SteelBlue; font-family: 'Ubuntu Mono', 'Inconsolata', 'Noto Sans TC'; font-size: 300%; font-weight: 700;\">\n",
    "Pass by Reference\n",
    "</div>\n",
    "<div style=\"font-family: 'Inconsolata', 'Noto Sans TC'; font-size: 135%; color: Gainsboro\">\n",
    "\n",
    "* 也稱<span style=\"color: #E5C100;\">call by reference</span>。\n",
    "* In contrast, \"pass by reference\" means that instead of passing a copy of the variable, <span style=\"color: #FFDB19; font-weight: 700;\">a reference to the original variable</span> <span style=\"color: #E5C100;\">is passed to the function</span>. This implies that <span style=\"color: #E5C100;\">any modifications made to the parameter within the function are reflected in the original argument</span>. This is like giving someone direct access to the original document; any changes they make will be on the original itself.\n",
    "\n",
    "* Advantages:\n",
    "    * Efficiency: No copying of data is required, which saves memory and processing time, especially with large data.\n",
    "    * Flexibility: Enables functions to modify the caller's variables directly.\n",
    "* Disadvantages:\n",
    "    * Safety: The original data can be accidentally modified, which might not be intended.\n"
   ]
  },
  {
   "cell_type": "code",
   "execution_count": null,
   "metadata": {},
   "outputs": [],
   "source": [
    "! g++ ./by_reference.cpp -w -o by_reference\n",
    "! ./by_reference"
   ]
  },
  {
   "cell_type": "markdown",
   "metadata": {},
   "source": [
    "<div style=\"color: SteelBlue; font-family: 'Ubuntu Mono', 'Inconsolata', 'Noto Sans TC'; font-size: 300%; font-weight: 700;\">\n",
    "Pass by Reference by Default in C++\n",
    "</div>\n",
    "<br>\n",
    "<div style=\"font-family: 'Inconsolata', 'Noto Sans TC'; font-size: 135%; color: Gainsboro\">\n",
    "\n",
    "* When you pass an array to a function in C++, what you are actually passing is a pointer to the first element of the array. This means that any modifications made to the array elements within the function will affect the original array outside the function. This behavior is because the array name, in a function call, acts as a pointer to its first element, and thus, the function receives a reference to the original array, not a copy of it.\n",
    "* Why Does This Happen?\n",
    "    * In C++ (and in C), the name of an array is essentially a constant pointer to its first element. When you pass an array to a function, you're passing the address of the first element. Inside the function, this pointer is used to access and modify the original array's elements. This mechanism is efficient because it avoids copying the entire array to pass it to a function, but it also means that the function can modify the original array's contents.\n",
    "</div>\n",
    "<br><br>"
   ]
  },
  {
   "cell_type": "markdown",
   "metadata": {},
   "source": [
    "<div style=\"color: SteelBlue; font-family: 'Ubuntu Mono', 'Inconsolata', 'Noto Sans TC'; font-size: 300%; font-weight: 700;\">\n",
    "Arguments Passing in Python\n",
    "</div>\n",
    "<br>\n",
    "<div style=\"font-family: 'Inconsolata', 'Noto Sans TC'; font-size: 135%; color: Gainsboro\">\n",
    "\n",
    "* Python employs a distinct strategy for argument passing, often described through the concept of \"<span style=\"color: #FFDB19; font-weight: 700;\">pass by assignment</span>\" or more technically, \"<span style=\"color: #FFDB19; font-weight: 700;\">pass by object reference</span>.\" This approach combines some characteristics of both \"pass by value\" and \"pass by reference,\" but with a unique Pythonic twist that aligns with its object model and memory management mechanisms.\n"
   ]
  },
  {
   "cell_type": "markdown",
   "metadata": {},
   "source": [
    "<div style=\"color: DarkSalmon; font-family: 'Ubuntu Mono', 'Inconsolata', 'Noto Sans TC'; font-size: 250%; font-weight: 700;\">\n",
    "Understanding Python's Approach\n",
    "</div>\n",
    "<br>\n",
    "<div style=\"font-family: 'Inconsolata', 'Noto Sans TC'; font-size: 135%; color: Gainsboro\">\n",
    "\n",
    "* In Python, everything is an object, including numbers, strings, functions, and even types themselves. <span style=\"color: #FFDB19; font-weight: 700;\">When you pass an argument to a function in Python, you're passing a reference to the object, not the actual object itself</span>. However, the way the function interacts with the passed object can give the appearance of both \"pass by value\" and \"pass by reference,\" depending on the mutability of the object involved.\n",
    "* <span style=\"color: #FFDB19; font-weight: 500;\">Immutable Objects</span>: These include integers, floats, strings, and tuples. Since these objects cannot be changed after they are created, attempting to modify an immutable object inside a function will actually <span style=\"color: #FFDB19; font-weight: 700;\">create a new object</span> and assign it to the local variable in the function's scope. This behavior gives the impression of \"pass by value,\" where the original object outside the function remains unchanged.\n",
    "* <span style=\"color: #FFDB19; font-weight: 500;\">Mutable Objects</span>: These include lists, dictionaries, sets, and most custom objects. Since these objects can be modified in place, changes made to an object inside a function will reflect in the original object outside the function. This behavior resembles \"pass by reference,\" as the function operates directly on the passed object.\n",
    "</div>"
   ]
  },
  {
   "cell_type": "markdown",
   "metadata": {},
   "source": [
    "<div style=\"color: YellowGreen; font-family: 'Ubuntu Mono', 'Inconsolata', 'Noto Sans TC'; font-size: 200%; font-weight: 700;\">\n",
    "Immutable Object Example\n",
    "</div>"
   ]
  },
  {
   "cell_type": "code",
   "execution_count": null,
   "metadata": {},
   "outputs": [],
   "source": [
    "def modify_info(id:int, name:str, is_veg:bool) -> None:\n",
    "    id += 1\n",
    "    name = f'_{name}_'\n",
    "    is_veg = not is_veg\n",
    "    print(f\"Inside function: {id = }\\t    {name = }\\t{is_veg = }\")\n",
    "    return None\n",
    "\n",
    "id = 1\n",
    "name = 'Alex'\n",
    "is_veg = False\n",
    "print(f\"BEFORE function: {id = }\\t    {name = }\\t{is_veg = }\")\n",
    "modify_info(id, name, is_veg)\n",
    "print(f\"AFTER function : {id = }\\t    {name = }\\t{is_veg = }\")\n"
   ]
  },
  {
   "cell_type": "markdown",
   "metadata": {},
   "source": [
    "<br>\n",
    "<div style=\"font-family: 'Inconsolata', 'Noto Sans TC'; font-size: 135%; color: Gainsboro\">\n",
    "\n",
    "* In this example, original remains unchanged outside the function, because strings are immutable in Python. The assignment inside the function creates a new string object and binds it to the local variable arg, leaving the original object unaffected."
   ]
  },
  {
   "cell_type": "markdown",
   "metadata": {},
   "source": []
  },
  {
   "cell_type": "markdown",
   "metadata": {},
   "source": [
    "<div style=\"color: YellowGreen; font-family: 'Ubuntu Mono', 'Inconsolata', 'Noto Sans TC'; font-size: 200%; font-weight: 700;\">\n",
    "Mutable Object Example\n",
    "</div>"
   ]
  },
  {
   "cell_type": "code",
   "execution_count": null,
   "metadata": {},
   "outputs": [],
   "source": [
    "def modify_info(scores:list) -> None:\n",
    "    for index, score in enumerate(scores):\n",
    "        scores[index] = round(score ** .5 * 10)\n",
    "    print(f\"Inside function: {scores = }\")\n",
    "    return None\n",
    "\n",
    "scores = [60, 100, 0, 36, 85]\n",
    "print(f\"BEFORE function: {scores = }\")\n",
    "modify_info(scores)\n",
    "print(f\"AFTER function : {scores = }\")\n"
   ]
  },
  {
   "cell_type": "markdown",
   "metadata": {},
   "source": [
    "<div style=\"font-family: 'Inconsolata', 'Noto Sans TC'; font-size: 135%; color: Gainsboro\">\n",
    "\n",
    "* Here, the list original is modified inside the function through the append operation. Since lists are mutable, the changes are reflected in the original list outside the function, demonstrating behavior akin to \"pass by reference.\"\n"
   ]
  },
  {
   "cell_type": "markdown",
   "metadata": {},
   "source": [
    "<div style=\"color: YellowGreen; font-family: 'Ubuntu Mono', 'Inconsolata', 'Noto Sans TC'; font-size: 200%; font-weight: 700;\">\n",
    "Passing a Mutable Object的機制和C++相比\n",
    "</div>\n",
    "\n",
    "<div style=\"font-family: 'Inconsolata', 'Noto Sans TC'; font-size: 135%; color: Gainsboro\">\n",
    "\n",
    "* Python的passing a mutable object到函數，其機制是否等同於C++傳遞array(by reference by default)？\n",
    "* you may indeed draw a parallel between \"passing a list as a function argument\" in Python and \"passing an array by reference by default\" in C++. Both mechanisms share the property that the original data structure can be modified within the called function, reflecting changes outside of the function. However, while the conceptual underpinnings are similar, it's important to appreciate the nuances of each language's approach to fully understand their implications.\n",
    "    * Python: Pass by Object Reference\n",
    "        * In Python, when you pass a list to a function, you are passing a reference to the list, not a copy of the list. This means that if the function modifies the list (e.g., appending an item, modifying an existing item), those changes will be reflected in the original list outside the function. This behavior is due to Python's model of handling all variables as references to objects. It's a mechanism that could be considered \"pass by object reference\" where the reference itself is passed by value.\n",
    "    * C++: Pass by Reference\n",
    "        * In C++, when you pass an array to a function, what you're actually passing is a pointer to the first element of the array (since the array name decays to a pointer when passed to a function). If the function signature explicitly specifies that a parameter is passed by reference (using &), then any changes made to its elements within the function will affect the original array. This explicit pass-by-reference is a more straightforward concept than Python's, as it directly involves the memory address of the original variable.\n",
    "* Key Similarities\n",
    "    * Modification Effects: In both Python with lists and C++ with arrays (when passed by reference), modifications to the data structure inside the function affect the original data structure outside the function.\n",
    "* Key Differences\n",
    "    * Memory Model: Python's handling of lists as objects and C++'s memory address-centric approach reflect their different memory models and type systems.\n",
    "* Default Behavior: Python's default behavior treats all function arguments as references to objects, whereas C++ requires explicit syntax to pass by reference (&) unless dealing with arrays, which inherently decay to pointers when passed to functions.\n",
    "* Mutability: Python distinguishes between mutable and immutable types, affecting how they can be modified when passed to functions. C++'s distinction is more about the method of passing arguments (by value, by pointer, by reference) and the constness of the parameters.\n",
    "* Conclusion\n",
    "    * While you can regard \"passing a list as a function argument\" in Python as conceptually similar to \"passing an array by reference by default\" in C++, understanding the distinctions between these languages' memory management and type systems provides deeper insights into their behavior. Both mechanisms allow for the modification of the original data structure within a function, but they operate within different programming paradigms and models."
   ]
  },
  {
   "cell_type": "markdown",
   "metadata": {},
   "source": [
    "<div style=\"color: SteelBlue; font-family: 'Ubuntu Mono', 'Inconsolata', 'Noto Sans TC'; font-size: 300%; font-weight: 700;\">\n",
    "Issue of Arguments' Default Values\n",
    "</div>\n",
    "\n",
    "<div style=\"font-family: 'Inconsolata', 'Noto Sans TC'; font-size: 135%; color: Gainsboro\">\n",
    "\n",
    "* 請判斷以下程式的輸出："
   ]
  },
  {
   "cell_type": "code",
   "execution_count": null,
   "metadata": {},
   "outputs": [],
   "source": [
    "def append_score_1(score:int, scores:list) -> list:\n",
    "    scores.append(score)\n",
    "    return scores\n",
    "\n",
    "def append_score_2(score:int, scores:list=[]) -> list:\n",
    "    scores.append(score)\n",
    "    return scores\n",
    "\n",
    "nums = (84, 69, 73)\n",
    "for num in nums:\n",
    "    scores_1 = append_score_1(num, [])\n",
    "    print(f'{scores_1 = }')\n",
    "    scores_2 = append_score_2(num)\n",
    "    print(f'{scores_2 = }\\n')"
   ]
  },
  {
   "cell_type": "markdown",
   "metadata": {},
   "source": [
    "<div style=\"font-family: 'Inconsolata', 'Noto Sans TC'; font-size: 135%; color: Gainsboro\">\n",
    "\n",
    "* The difference in behavior between scores_1 and scores_2 in your Python code snippet stems from how default argument values are handled in Python functions, specifically mutable default arguments like lists."
   ]
  },
  {
   "cell_type": "markdown",
   "metadata": {},
   "source": [
    "<div style=\"color: DarkSalmon; font-family: 'Ubuntu Mono', 'Inconsolata', 'Noto Sans TC'; font-size: 250%; font-weight: 700;\">\n",
    "Understanding the Behavior\n",
    "</div>\n",
    "\n",
    "<div style=\"font-family: 'Inconsolata', 'Noto Sans TC'; font-size: 135%; color: Gainsboro\">\n",
    "\n",
    "* append_score_1 Function\n",
    "    * In append_score_1, the scores list is explicitly passed as an argument each time the function is called (append_score_1(num, [])). This means a new, empty list is created and used every time the function is executed. Therefore, each call to append_score_1 starts with an empty list, and score is appended to this new list, resulting in a list containing only the most recent score each time.\n",
    "* append_score_2 Function\n",
    "    * append_score_2, however, defines scores with a default value of an empty list (scores:list=[]). In Python, default argument values are evaluated only once when the function is defined, not each time the function is called. This means the same list object is used across all calls to append_score_2 where the default value is utilized. As a result, every call to append_score_2 without specifying a different list for scores appends the new score to the same list. This shared list accumulates values across calls, leading to the observed behavior.\n",
    "* Illustration of the Issue\n",
    "    * For scores_1, a new list is created and passed to append_score_1 for each iteration of the loop, ensuring that scores_1 contains only the current num.\n",
    "    * For scores_2, since the default empty list ([]) is created only once at the time the function is defined, every subsequent call to append_score_2 without specifying a different list for scores continues to append to this single, initially empty list. Thus, scores_2 accumulates and retains values across each call within the loop, leading to the incremental addition of num values.\n"
   ]
  },
  {
   "cell_type": "markdown",
   "metadata": {},
   "source": [
    "<div style=\"color: DarkSalmon; font-family: 'Ubuntu Mono', 'Inconsolata', 'Noto Sans TC'; font-size: 250%; font-weight: 700;\">\n",
    "Best Practices\n",
    "</div>\n",
    "\n",
    "<div style=\"font-family: 'Inconsolata', 'Noto Sans TC'; font-size: 135%; color: Gainsboro\">\n",
    "\n",
    "* This behavior highlights an important Python programming best practice: be cautious with mutable default arguments. Instead of using mutable defaults directly, a common pattern is to use None as a default value and then initialize the mutable object within the function if needed. For example, append_score_2 could be safely rewritten as:"
   ]
  },
  {
   "cell_type": "code",
   "execution_count": null,
   "metadata": {},
   "outputs": [],
   "source": [
    "def append_score_2(score: int, scores: list = None) -> list:\n",
    "    if scores is None:\n",
    "        scores = []\n",
    "    scores.append(score)\n",
    "    return scores\n"
   ]
  },
  {
   "cell_type": "markdown",
   "metadata": {},
   "source": [
    "<div style=\"font-family: 'Inconsolata', 'Noto Sans TC'; font-size: 135%; color: Gainsboro\">\n",
    "\n",
    "* This approach ensures that a new list is created each time the function is called without an explicit scores argument, thus avoiding the unintended sharing of mutable default arguments across function calls.\n",
    "* Understanding and applying this principle is crucial for writing clear, error-free Python code, especially when defining functions that are intended to be reused across different parts of a program or library."
   ]
  },
  {
   "cell_type": "markdown",
   "metadata": {},
   "source": [
    "<div style=\"color: SteelBlue; font-family: 'Ubuntu Mono', 'Inconsolata', 'Noto Sans TC'; font-size: 300%; font-weight: 700;\">\n",
    "Conclusion\n",
    "</div>\n",
    "\n",
    "<div style=\"font-family: 'Inconsolata', 'Noto Sans TC'; font-size: 135%; color: Gainsboro\">\n",
    "\n",
    "* Python's approach to argument passing is elegantly unified under the concept of \"pass by object reference,\" with the effect of passing depending on the mutability of the object involved. This model provides a powerful and flexible way to interact with objects, supporting a wide range of programming patterns while maintaining Python's overarching emphasis on readability and simplicity.\n",
    "* Understanding this model is crucial for effective Python programming, especially when designing functions that modify their inputs. It's also a cornerstone for mastering more advanced Python concepts, such as decorators, context managers, and generators, which leverage Python's object and memory model."
   ]
  },
  {
   "cell_type": "markdown",
   "metadata": {},
   "source": [
    "<div style=\"text-align:center\"><img src=\"https://hackmd.io/_uploads/HJd5YtEnT.jpg\" width=\"650\"/></div>\n"
   ]
  },
  {
   "cell_type": "markdown",
   "metadata": {},
   "source": [
    "<div style=\"color: #D94343; font-family: 'Ubuntu Mono', 'Inconsolata', 'Noto Sans TC'; font-size: 175%; font-weight: 700;\">\n",
    "第4層標題\n",
    "</div>\n",
    "<br>\n",
    "<div style=\"font-family: 'Inconsolata', 'Noto Sans TC'; font-size: 135%; color: Gainsboro\">\n",
    "\n",
    "* ...\n",
    "* ..."
   ]
  }
 ],
 "metadata": {
  "kernelspec": {
   "display_name": "Python 3",
   "language": "python",
   "name": "python3"
  },
  "language_info": {
   "codemirror_mode": {
    "name": "ipython",
    "version": 3
   },
   "file_extension": ".py",
   "mimetype": "text/x-python",
   "name": "python",
   "nbconvert_exporter": "python",
   "pygments_lexer": "ipython3",
   "version": "3.12.1"
  }
 },
 "nbformat": 4,
 "nbformat_minor": 2
}
